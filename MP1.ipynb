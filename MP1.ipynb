{
 "cells": [
  {
   "cell_type": "markdown",
   "metadata": {},
   "source": [
    "# Airbnb: From stars to sentiments"
   ]
  },
  {
   "cell_type": "markdown",
   "metadata": {},
   "source": [
    "## Executive summary"
   ]
  },
  {
   "cell_type": "markdown",
   "metadata": {},
   "source": [
    "Recommendation systems have been highly popularized during the past few years by companies like Netflix, Amazon and Airbnb, who have been using these systems in their platforms to provide a better customer experience and improve their sales and revenue. \n",
    "\n",
    "Some of these organizations have been using collaborative base recommendation systems based on ratings like, the number of stars. However, customers nowadays are more critical at the moment of evaluating products and services. They require more information to take a decision. This is especially important for e-commerce platforms like Lazada and Amazon where customers take important consideration on the reviews of other people in both images and comments to get an understanding about the credibility and quality of a product. \n",
    "\n",
    "For this project, I am seeking to solve the question of how we can utilize reviews and comments from other customers to generate a recommendation system instead of using the usual ratings or number of stars. \n",
    "\n",
    "In this project, I will be using the data of Airbnb reviews for Singapore which include text reviews of the places where people have stayed. I will be extracting the sentiments of the reviews and will be using them as a metric of the product quality. The sentiment will be extracted with Vader or Valence Aware Dictionary for Sentiment Reasoning, which uses a Dictionary for both extracting the polarity and intensity of a text. \n",
    "\n",
    "Then, I will use the Surprise library to generate the recommendation system. Different models will be implemented like SVD, KNN based methods and others to identify what will provide a better result. \n",
    "\n",
    "My project provided best results using algorithms like SVD, SVD++ and BaselineOnly based on metrics like MAE and RMSE. K nearest neighbors algorithms were not a great option because of the computation complexity of the algorithm. I still recommend to take a look into this models with other datasets with more reviews per user. However, since we are using the airbnb dataset where there are few reviews per user, other models are preffered."
   ]
  },
  {
   "cell_type": "code",
   "execution_count": 1,
   "metadata": {
    "ExecuteTime": {
     "end_time": "2020-11-02T11:44:31.269194Z",
     "start_time": "2020-11-02T11:44:28.592692Z"
    }
   },
   "outputs": [
    {
     "name": "stderr",
     "output_type": "stream",
     "text": [
      "Matplotlib created a temporary config/cache directory at /tmp/matplotlib-gvmm0jt0 because the default path (/home/awhite/.cache/matplotlib) is not a writable directory; it is highly recommended to set the MPLCONFIGDIR environment variable to a writable directory, in particular to speed up the import of Matplotlib and to better support multiprocessing.\n"
     ]
    }
   ],
   "source": [
    "import pandas as pd\n",
    "import json\n",
    "import numpy as np\n",
    "from sklearn.preprocessing import MinMaxScaler\n",
    "import re\n",
    "from vaderSentiment.vaderSentiment import SentimentIntensityAnalyzer\n",
    "from tqdm import tqdm\n",
    "from surprise import *\n",
    "from surprise.model_selection import cross_validate\n",
    "import matplotlib.pyplot as plt\n",
    "import seaborn as sns"
   ]
  },
  {
   "cell_type": "markdown",
   "metadata": {},
   "source": [
    "## Introduction"
   ]
  },
  {
   "cell_type": "markdown",
   "metadata": {},
   "source": [
    "Airbnb is, with no doubt, one of the most important platforms in the travel and recreation space right now. With its revolutionary business model, Airbnb has been able to transform the travel industry- this is by providing users with a new option of accommodations for travelers that do not want to spend a forture in big hotel chains but at the same time, do not want to sacrifice the commodity and cleanliness of their stay. Other companies have entered into similar segments of the travel industry by recommending hotels and other accomodations like Trivago, Booking.com and Hostel World. However, none of them have been as successful as Airbnb in both generating revenue and quantity of users. \n",
    "\n",
    "A core part of Airbnb is the quality of the service and its excellent recommendation system. Airbnb is generally very good at recommending stays that are similar to the users query based on simple filters like location and price. However, nowadays many users need more information to take a decision of where to stay. Ratings have been probably one of the most frequently used ways to provide feedback of the quality of a service or product and have been effectively used in Airbnb. But similar to e-commerce, quality metrics based on ratings can be biased, incomplete or manipulated. Because of this reason, many users are looking nowadays at reviews and comments from guests where they can understand more in detail the reasons behind a specific rating. \n",
    "\n",
    "Because of this reason, I seek to answer the question: \"how can we take into consideration the user reviews and comments of a specific stay to generate a recommendation system?\" By using Natural Language Processing, we can extract important information about the content of a text. In this case, I decided to extract the sentiment using VADER, a popular sentiment analysis pretrained model. "
   ]
  },
  {
   "cell_type": "markdown",
   "metadata": {},
   "source": [
    "## Dataset"
   ]
  },
  {
   "cell_type": "markdown",
   "metadata": {},
   "source": [
    "The dataset used was obtained from the public library available in jojie, which contains a total of 95,322 reviews made by a total of 87,908 total reviewers in 4,576 unique listings from Singapore. The data was collected from 2013 to 2020. The reviews are fairly clean as they do not contain missing values. However, many of the comments are automatically generated by the airbnb platform or were created in different languages - this is the reason why I decided to exclude them for this project as it did not provide any valuable information about the sentiment of a the stay of a user. "
   ]
  },
  {
   "cell_type": "markdown",
   "metadata": {},
   "source": [
    "Let's start by importing the data:"
   ]
  },
  {
   "cell_type": "code",
   "execution_count": 2,
   "metadata": {
    "ExecuteTime": {
     "end_time": "2020-11-02T11:44:31.769919Z",
     "start_time": "2020-11-02T11:44:31.271570Z"
    }
   },
   "outputs": [
    {
     "data": {
      "text/html": [
       "<div>\n",
       "<style scoped>\n",
       "    .dataframe tbody tr th:only-of-type {\n",
       "        vertical-align: middle;\n",
       "    }\n",
       "\n",
       "    .dataframe tbody tr th {\n",
       "        vertical-align: top;\n",
       "    }\n",
       "\n",
       "    .dataframe thead th {\n",
       "        text-align: right;\n",
       "    }\n",
       "</style>\n",
       "<table border=\"1\" class=\"dataframe\">\n",
       "  <thead>\n",
       "    <tr style=\"text-align: right;\">\n",
       "      <th></th>\n",
       "      <th>listing_id</th>\n",
       "      <th>id</th>\n",
       "      <th>date</th>\n",
       "      <th>reviewer_id</th>\n",
       "      <th>reviewer_name</th>\n",
       "      <th>comments</th>\n",
       "    </tr>\n",
       "  </thead>\n",
       "  <tbody>\n",
       "    <tr>\n",
       "      <th>0</th>\n",
       "      <td>49091</td>\n",
       "      <td>8243238</td>\n",
       "      <td>2013-10-21</td>\n",
       "      <td>8557223</td>\n",
       "      <td>Jared</td>\n",
       "      <td>Fran was absolutely gracious and welcoming. Ma...</td>\n",
       "    </tr>\n",
       "    <tr>\n",
       "      <th>1</th>\n",
       "      <td>50646</td>\n",
       "      <td>11909864</td>\n",
       "      <td>2014-04-18</td>\n",
       "      <td>1356099</td>\n",
       "      <td>James</td>\n",
       "      <td>A comfortable room in a smart condo developmen...</td>\n",
       "    </tr>\n",
       "    <tr>\n",
       "      <th>2</th>\n",
       "      <td>50646</td>\n",
       "      <td>13823948</td>\n",
       "      <td>2014-06-05</td>\n",
       "      <td>15222393</td>\n",
       "      <td>Welli</td>\n",
       "      <td>Stayed over at Sujatha's house for 3 good nigh...</td>\n",
       "    </tr>\n",
       "    <tr>\n",
       "      <th>3</th>\n",
       "      <td>50646</td>\n",
       "      <td>15117222</td>\n",
       "      <td>2014-07-02</td>\n",
       "      <td>5543172</td>\n",
       "      <td>Cyril</td>\n",
       "      <td>It's been a lovely stay at Sujatha's. The room...</td>\n",
       "    </tr>\n",
       "    <tr>\n",
       "      <th>4</th>\n",
       "      <td>50646</td>\n",
       "      <td>15426462</td>\n",
       "      <td>2014-07-08</td>\n",
       "      <td>817532</td>\n",
       "      <td>Jake</td>\n",
       "      <td>We had a great experience. A nice place, an am...</td>\n",
       "    </tr>\n",
       "  </tbody>\n",
       "</table>\n",
       "</div>"
      ],
      "text/plain": [
       "   listing_id        id        date  reviewer_id reviewer_name  \\\n",
       "0       49091   8243238  2013-10-21      8557223         Jared   \n",
       "1       50646  11909864  2014-04-18      1356099         James   \n",
       "2       50646  13823948  2014-06-05     15222393         Welli   \n",
       "3       50646  15117222  2014-07-02      5543172         Cyril   \n",
       "4       50646  15426462  2014-07-08       817532          Jake   \n",
       "\n",
       "                                            comments  \n",
       "0  Fran was absolutely gracious and welcoming. Ma...  \n",
       "1  A comfortable room in a smart condo developmen...  \n",
       "2  Stayed over at Sujatha's house for 3 good nigh...  \n",
       "3  It's been a lovely stay at Sujatha's. The room...  \n",
       "4  We had a great experience. A nice place, an am...  "
      ]
     },
     "execution_count": 2,
     "metadata": {},
     "output_type": "execute_result"
    }
   ],
   "source": [
    "df_reviews = pd.read_csv('/mnt/data/public/insideairbnb/data.insideairbnb.com\\\n",
    "/singapore/sg/singapore/2020-04-26/data/reviews.csv.gz', compression='gzip')\n",
    "df_reviews.head()"
   ]
  },
  {
   "cell_type": "markdown",
   "metadata": {},
   "source": [
    "Lets take a look to a review:"
   ]
  },
  {
   "cell_type": "code",
   "execution_count": 3,
   "metadata": {
    "ExecuteTime": {
     "end_time": "2020-11-02T11:44:31.780695Z",
     "start_time": "2020-11-02T11:44:31.773971Z"
    }
   },
   "outputs": [
    {
     "data": {
      "text/plain": [
       "'Fran was absolutely gracious and welcoming. Made my stay a great experience. Would definitely recommend this cozy and peaceful place to anyone.'"
      ]
     },
     "execution_count": 3,
     "metadata": {},
     "output_type": "execute_result"
    }
   ],
   "source": [
    "df_reviews.comments[0]"
   ]
  },
  {
   "cell_type": "markdown",
   "metadata": {},
   "source": [
    "Lets find out how balanced is the dataset:"
   ]
  },
  {
   "cell_type": "code",
   "execution_count": 4,
   "metadata": {
    "ExecuteTime": {
     "end_time": "2020-11-02T11:44:31.854546Z",
     "start_time": "2020-11-02T11:44:31.783576Z"
    }
   },
   "outputs": [
    {
     "data": {
      "text/plain": [
       "(array([ 1,  2,  3,  4,  5,  6,  7,  8,  9, 10, 11, 12, 13, 16, 18]),\n",
       " array([82491,  4310,   709,   216,    82,    38,    20,    15,     7,\n",
       "            6,     3,     2,     2,     5,     2]))"
      ]
     },
     "execution_count": 4,
     "metadata": {},
     "output_type": "execute_result"
    }
   ],
   "source": [
    "u, c  = np.unique(df_reviews.groupby('reviewer_id').count()['listing_id'].values, return_counts = True)\n",
    "u,c"
   ]
  },
  {
   "cell_type": "code",
   "execution_count": 5,
   "metadata": {
    "ExecuteTime": {
     "end_time": "2020-11-02T11:44:32.166788Z",
     "start_time": "2020-11-02T11:44:31.856421Z"
    }
   },
   "outputs": [
    {
     "name": "stderr",
     "output_type": "stream",
     "text": [
      "/opt/conda/lib/python3.8/site-packages/seaborn/_decorators.py:36: FutureWarning: Pass the following variables as keyword args: x, y. From version 0.12, the only valid positional argument will be `data`, and passing other arguments without an explicit keyword will result in an error or misinterpretation.\n",
      "  warnings.warn(\n"
     ]
    },
    {
     "data": {
      "text/plain": [
       "[Text(0.5, 0, 'Reviews per user'), Text(0, 0.5, 'Users')]"
      ]
     },
     "execution_count": 5,
     "metadata": {},
     "output_type": "execute_result"
    },
    {
     "data": {
      "image/png": "[encoded data removed]",
      "text/plain": [
       "<Figure size 842.4x595.44 with 1 Axes>"
      ]
     },
     "metadata": {},
     "output_type": "display_data"
    }
   ],
   "source": [
    "sns.set(rc={'figure.figsize':(11.7,8.27)})\n",
    "ax = sns.barplot(u,c)\n",
    "ax.set(xlabel='Reviews per user', ylabel='Users')"
   ]
  },
  {
   "cell_type": "markdown",
   "metadata": {},
   "source": [
    "Based on this, it is possible to notice that the dataset is highly unbalanced and biased to customers providing only 1 or 2 reviews. This might present a challenge for some algorithms like KNN as they use similar content from users to provide a recommendation. However, as many users only have 1 review, the recommendation system may fail to provide a recommendation. This information can guide us to use other models and techniques."
   ]
  },
  {
   "cell_type": "markdown",
   "metadata": {},
   "source": [
    "## Sentiment Analysis"
   ]
  },
  {
   "cell_type": "markdown",
   "metadata": {},
   "source": [
    "I am now going to perform the sentiment extraction of the comments using Vader. Vader generates different values from each text like how positive, negative or neutral it is. As well, I have a compound option that generates an approximation of the sentiment using all the other features. For this project, I will use compound as it includes positive and negative sentiments in a compound matter."
   ]
  },
  {
   "cell_type": "code",
   "execution_count": 6,
   "metadata": {
    "ExecuteTime": {
     "end_time": "2020-11-02T11:44:32.183671Z",
     "start_time": "2020-11-02T11:44:32.168635Z"
    }
   },
   "outputs": [],
   "source": [
    "analyser = SentimentIntensityAnalyzer()"
   ]
  },
  {
   "cell_type": "code",
   "execution_count": 7,
   "metadata": {
    "ExecuteTime": {
     "end_time": "2020-11-02T11:44:32.187780Z",
     "start_time": "2020-11-02T11:44:32.185198Z"
    }
   },
   "outputs": [],
   "source": [
    "def sentiment_analyzer_scores(sentence):\n",
    "    score = analyser.polarity_scores(sentence)\n",
    "    return score['compound']\n"
   ]
  },
  {
   "cell_type": "code",
   "execution_count": 8,
   "metadata": {
    "ExecuteTime": {
     "end_time": "2020-11-02T11:45:11.043882Z",
     "start_time": "2020-11-02T11:44:32.190641Z"
    },
    "scrolled": true
   },
   "outputs": [
    {
     "name": "stderr",
     "output_type": "stream",
     "text": [
      "100%|██████████| 95322/95322 [00:38<00:00, 2453.86it/s]\n"
     ]
    }
   ],
   "source": [
    "sentiment = []\n",
    "for c in tqdm(df_reviews['comments'].values):\n",
    "    sentiment.append(sentiment_analyzer_scores(str(c)))"
   ]
  },
  {
   "cell_type": "code",
   "execution_count": 9,
   "metadata": {
    "ExecuteTime": {
     "end_time": "2020-11-02T11:45:11.070876Z",
     "start_time": "2020-11-02T11:45:11.046404Z"
    }
   },
   "outputs": [
    {
     "data": {
      "text/html": [
       "<div>\n",
       "<style scoped>\n",
       "    .dataframe tbody tr th:only-of-type {\n",
       "        vertical-align: middle;\n",
       "    }\n",
       "\n",
       "    .dataframe tbody tr th {\n",
       "        vertical-align: top;\n",
       "    }\n",
       "\n",
       "    .dataframe thead th {\n",
       "        text-align: right;\n",
       "    }\n",
       "</style>\n",
       "<table border=\"1\" class=\"dataframe\">\n",
       "  <thead>\n",
       "    <tr style=\"text-align: right;\">\n",
       "      <th></th>\n",
       "      <th>listing_id</th>\n",
       "      <th>id</th>\n",
       "      <th>date</th>\n",
       "      <th>reviewer_id</th>\n",
       "      <th>reviewer_name</th>\n",
       "      <th>comments</th>\n",
       "      <th>sentiment</th>\n",
       "    </tr>\n",
       "  </thead>\n",
       "  <tbody>\n",
       "    <tr>\n",
       "      <th>0</th>\n",
       "      <td>49091</td>\n",
       "      <td>8243238</td>\n",
       "      <td>2013-10-21</td>\n",
       "      <td>8557223</td>\n",
       "      <td>Jared</td>\n",
       "      <td>Fran was absolutely gracious and welcoming. Ma...</td>\n",
       "      <td>0.9615</td>\n",
       "    </tr>\n",
       "    <tr>\n",
       "      <th>1</th>\n",
       "      <td>50646</td>\n",
       "      <td>11909864</td>\n",
       "      <td>2014-04-18</td>\n",
       "      <td>1356099</td>\n",
       "      <td>James</td>\n",
       "      <td>A comfortable room in a smart condo developmen...</td>\n",
       "      <td>0.9484</td>\n",
       "    </tr>\n",
       "    <tr>\n",
       "      <th>2</th>\n",
       "      <td>50646</td>\n",
       "      <td>13823948</td>\n",
       "      <td>2014-06-05</td>\n",
       "      <td>15222393</td>\n",
       "      <td>Welli</td>\n",
       "      <td>Stayed over at Sujatha's house for 3 good nigh...</td>\n",
       "      <td>0.9881</td>\n",
       "    </tr>\n",
       "    <tr>\n",
       "      <th>3</th>\n",
       "      <td>50646</td>\n",
       "      <td>15117222</td>\n",
       "      <td>2014-07-02</td>\n",
       "      <td>5543172</td>\n",
       "      <td>Cyril</td>\n",
       "      <td>It's been a lovely stay at Sujatha's. The room...</td>\n",
       "      <td>0.9627</td>\n",
       "    </tr>\n",
       "    <tr>\n",
       "      <th>4</th>\n",
       "      <td>50646</td>\n",
       "      <td>15426462</td>\n",
       "      <td>2014-07-08</td>\n",
       "      <td>817532</td>\n",
       "      <td>Jake</td>\n",
       "      <td>We had a great experience. A nice place, an am...</td>\n",
       "      <td>0.9274</td>\n",
       "    </tr>\n",
       "  </tbody>\n",
       "</table>\n",
       "</div>"
      ],
      "text/plain": [
       "   listing_id        id        date  reviewer_id reviewer_name  \\\n",
       "0       49091   8243238  2013-10-21      8557223         Jared   \n",
       "1       50646  11909864  2014-04-18      1356099         James   \n",
       "2       50646  13823948  2014-06-05     15222393         Welli   \n",
       "3       50646  15117222  2014-07-02      5543172         Cyril   \n",
       "4       50646  15426462  2014-07-08       817532          Jake   \n",
       "\n",
       "                                            comments  sentiment  \n",
       "0  Fran was absolutely gracious and welcoming. Ma...     0.9615  \n",
       "1  A comfortable room in a smart condo developmen...     0.9484  \n",
       "2  Stayed over at Sujatha's house for 3 good nigh...     0.9881  \n",
       "3  It's been a lovely stay at Sujatha's. The room...     0.9627  \n",
       "4  We had a great experience. A nice place, an am...     0.9274  "
      ]
     },
     "execution_count": 9,
     "metadata": {},
     "output_type": "execute_result"
    }
   ],
   "source": [
    "df_reviews['sentiment'] = sentiment\n",
    "df_reviews.head()"
   ]
  },
  {
   "cell_type": "code",
   "execution_count": 10,
   "metadata": {
    "ExecuteTime": {
     "end_time": "2020-11-02T11:45:11.784602Z",
     "start_time": "2020-11-02T11:45:11.072569Z"
    }
   },
   "outputs": [
    {
     "data": {
      "image/png": "[encoded data removed]",
      "text/plain": [
       "<Figure size 360x360 with 1 Axes>"
      ]
     },
     "metadata": {},
     "output_type": "display_data"
    }
   ],
   "source": [
    "sns.set(rc={'figure.figsize':(2,2)})\n",
    "ax = sns.displot(sentiment)"
   ]
  },
  {
   "cell_type": "markdown",
   "metadata": {},
   "source": [
    "We can see that the the majority of the reviews are positive and closer to 1 which can be explained due to the quality controls of Airbnb However there is a pecularity with reviews with the sentiment equal to 0. \n",
    "\n",
    "Lets take a closer review to these items:"
   ]
  },
  {
   "cell_type": "code",
   "execution_count": 11,
   "metadata": {
    "ExecuteTime": {
     "end_time": "2020-11-02T11:45:11.800637Z",
     "start_time": "2020-11-02T11:45:11.786325Z"
    }
   },
   "outputs": [
    {
     "data": {
      "text/plain": [
       "25       The reservation was canceled 38 days before ar...\n",
       "47       預定兩間房六人入住兩天~一間房間有雙人床及單人床,另一間卻是雙人床和一壞掉床架在用釘上木板,...\n",
       "50       The host canceled this reservation 123 days be...\n",
       "52                                出行方便,房东人非常好｡也很热情｡是个不错的选择\n",
       "57                             It has everything you need.\n",
       "                               ...                        \n",
       "95284                                                    .\n",
       "95289    Really comfy room and overall experience. Look...\n",
       "95310    Room was advertised with a window, there was not!\n",
       "95312    The host canceled this reservation 7 days befo...\n",
       "95317                            Next time will come again\n",
       "Name: comments, Length: 15637, dtype: object"
      ]
     },
     "execution_count": 11,
     "metadata": {},
     "output_type": "execute_result"
    }
   ],
   "source": [
    "df_reviews.loc[df_reviews['sentiment'] == 0.]['comments']"
   ]
  },
  {
   "cell_type": "markdown",
   "metadata": {},
   "source": [
    "After taking a look to some of these items we can see that many of the reviews are automatically generated by the airbnb system or are in different languages. Based on this, I will delete data of comments with sentiment equal to 0. As well, I will prepare the data in a format which will be accepted in the surprise library. "
   ]
  },
  {
   "cell_type": "code",
   "execution_count": 12,
   "metadata": {
    "ExecuteTime": {
     "end_time": "2020-11-02T11:45:11.821917Z",
     "start_time": "2020-11-02T11:45:11.802400Z"
    }
   },
   "outputs": [],
   "source": [
    "idx = df_reviews.loc[df_reviews['sentiment'] == 0.]['comments'].index\n",
    "df_reviews = df_reviews.drop(index = idx)"
   ]
  },
  {
   "cell_type": "code",
   "execution_count": 13,
   "metadata": {
    "ExecuteTime": {
     "end_time": "2020-11-02T11:45:11.832867Z",
     "start_time": "2020-11-02T11:45:11.823825Z"
    }
   },
   "outputs": [
    {
     "data": {
      "text/html": [
       "<div>\n",
       "<style scoped>\n",
       "    .dataframe tbody tr th:only-of-type {\n",
       "        vertical-align: middle;\n",
       "    }\n",
       "\n",
       "    .dataframe tbody tr th {\n",
       "        vertical-align: top;\n",
       "    }\n",
       "\n",
       "    .dataframe thead th {\n",
       "        text-align: right;\n",
       "    }\n",
       "</style>\n",
       "<table border=\"1\" class=\"dataframe\">\n",
       "  <thead>\n",
       "    <tr style=\"text-align: right;\">\n",
       "      <th></th>\n",
       "      <th>reviewer_id</th>\n",
       "      <th>listing_id</th>\n",
       "      <th>sentiment</th>\n",
       "    </tr>\n",
       "  </thead>\n",
       "  <tbody>\n",
       "    <tr>\n",
       "      <th>0</th>\n",
       "      <td>8557223</td>\n",
       "      <td>49091</td>\n",
       "      <td>0.9615</td>\n",
       "    </tr>\n",
       "    <tr>\n",
       "      <th>1</th>\n",
       "      <td>1356099</td>\n",
       "      <td>50646</td>\n",
       "      <td>0.9484</td>\n",
       "    </tr>\n",
       "    <tr>\n",
       "      <th>2</th>\n",
       "      <td>15222393</td>\n",
       "      <td>50646</td>\n",
       "      <td>0.9881</td>\n",
       "    </tr>\n",
       "    <tr>\n",
       "      <th>3</th>\n",
       "      <td>5543172</td>\n",
       "      <td>50646</td>\n",
       "      <td>0.9627</td>\n",
       "    </tr>\n",
       "    <tr>\n",
       "      <th>4</th>\n",
       "      <td>817532</td>\n",
       "      <td>50646</td>\n",
       "      <td>0.9274</td>\n",
       "    </tr>\n",
       "  </tbody>\n",
       "</table>\n",
       "</div>"
      ],
      "text/plain": [
       "   reviewer_id  listing_id  sentiment\n",
       "0      8557223       49091     0.9615\n",
       "1      1356099       50646     0.9484\n",
       "2     15222393       50646     0.9881\n",
       "3      5543172       50646     0.9627\n",
       "4       817532       50646     0.9274"
      ]
     },
     "execution_count": 13,
     "metadata": {},
     "output_type": "execute_result"
    }
   ],
   "source": [
    "df_short = df_reviews[['reviewer_id', 'listing_id', 'sentiment']]\n",
    "df_short.head()"
   ]
  },
  {
   "cell_type": "markdown",
   "metadata": {},
   "source": [
    "## Recommendation System "
   ]
  },
  {
   "cell_type": "markdown",
   "metadata": {},
   "source": [
    "The recommendation system will be done with the surprise library. First, we have to create a reader function which contains the scale of the sentiment to be used. The sentiments are generated from -1 to 1 where values near to -1 are negative sentiment, and near to 1 are positive. As well, we will be importing the dataframe with the Dataset function from Surprise. "
   ]
  },
  {
   "cell_type": "code",
   "execution_count": 14,
   "metadata": {
    "ExecuteTime": {
     "end_time": "2020-11-02T11:45:11.913302Z",
     "start_time": "2020-11-02T11:45:11.834549Z"
    }
   },
   "outputs": [],
   "source": [
    "reader = Reader(rating_scale=(-1, 1))\n",
    "data = Dataset.load_from_df(df_short, reader)"
   ]
  },
  {
   "cell_type": "markdown",
   "metadata": {},
   "source": [
    "To identify the best model, we will use an interative process with crossvalidation and we will determine the best model by different measures like RMSE and MAE. It is important to mention that K-nearest neighbor models were used. However, we were not successful in providing results. A potential reason for this is the high sparcity of the matrix, where majority of users only have 1 review which makes the model not ideal to run.  "
   ]
  },
  {
   "cell_type": "code",
   "execution_count": 15,
   "metadata": {
    "ExecuteTime": {
     "end_time": "2020-11-02T11:45:41.234474Z",
     "start_time": "2020-11-02T11:45:11.915325Z"
    }
   },
   "outputs": [
    {
     "name": "stderr",
     "output_type": "stream",
     "text": [
      " 60%|██████    | 3/5 [00:18<00:11,  5.96s/it]"
     ]
    },
    {
     "name": "stdout",
     "output_type": "stream",
     "text": [
      "Estimating biases using als...\n",
      "Estimating biases using als...\n"
     ]
    },
    {
     "name": "stderr",
     "output_type": "stream",
     "text": [
      "100%|██████████| 5/5 [00:29<00:00,  5.86s/it]\n"
     ]
    },
    {
     "data": {
      "text/html": [
       "<div>\n",
       "<style scoped>\n",
       "    .dataframe tbody tr th:only-of-type {\n",
       "        vertical-align: middle;\n",
       "    }\n",
       "\n",
       "    .dataframe tbody tr th {\n",
       "        vertical-align: top;\n",
       "    }\n",
       "\n",
       "    .dataframe thead th {\n",
       "        text-align: right;\n",
       "    }\n",
       "</style>\n",
       "<table border=\"1\" class=\"dataframe\">\n",
       "  <thead>\n",
       "    <tr style=\"text-align: right;\">\n",
       "      <th></th>\n",
       "      <th>test_rmse</th>\n",
       "      <th>test_mae</th>\n",
       "      <th>fit_time</th>\n",
       "      <th>test_time</th>\n",
       "    </tr>\n",
       "    <tr>\n",
       "      <th>Algorithm</th>\n",
       "      <th></th>\n",
       "      <th></th>\n",
       "      <th></th>\n",
       "      <th></th>\n",
       "    </tr>\n",
       "  </thead>\n",
       "  <tbody>\n",
       "    <tr>\n",
       "      <th>BaselineOnly</th>\n",
       "      <td>0.315069</td>\n",
       "      <td>0.205046</td>\n",
       "      <td>0.145757</td>\n",
       "      <td>0.324808</td>\n",
       "    </tr>\n",
       "    <tr>\n",
       "      <th>SVDpp</th>\n",
       "      <td>0.315851</td>\n",
       "      <td>0.205753</td>\n",
       "      <td>4.846539</td>\n",
       "      <td>0.409469</td>\n",
       "    </tr>\n",
       "    <tr>\n",
       "      <th>SVD</th>\n",
       "      <td>0.316708</td>\n",
       "      <td>0.205838</td>\n",
       "      <td>2.814932</td>\n",
       "      <td>0.282941</td>\n",
       "    </tr>\n",
       "    <tr>\n",
       "      <th>CoClustering</th>\n",
       "      <td>0.387877</td>\n",
       "      <td>0.262832</td>\n",
       "      <td>4.137002</td>\n",
       "      <td>0.258637</td>\n",
       "    </tr>\n",
       "    <tr>\n",
       "      <th>NormalPredictor</th>\n",
       "      <td>0.417303</td>\n",
       "      <td>0.299625</td>\n",
       "      <td>0.060083</td>\n",
       "      <td>0.474427</td>\n",
       "    </tr>\n",
       "  </tbody>\n",
       "</table>\n",
       "</div>"
      ],
      "text/plain": [
       "                 test_rmse  test_mae  fit_time  test_time\n",
       "Algorithm                                                \n",
       "BaselineOnly      0.315069  0.205046  0.145757   0.324808\n",
       "SVDpp             0.315851  0.205753  4.846539   0.409469\n",
       "SVD               0.316708  0.205838  2.814932   0.282941\n",
       "CoClustering      0.387877  0.262832  4.137002   0.258637\n",
       "NormalPredictor   0.417303  0.299625  0.060083   0.474427"
      ]
     },
     "execution_count": 15,
     "metadata": {},
     "output_type": "execute_result"
    }
   ],
   "source": [
    "benchmark = []\n",
    "# Iterate over all algorithms\n",
    "for algorithm in tqdm([SVD(), SVDpp(), \n",
    "                       NormalPredictor(), \n",
    "                       #KNNBaseline(k = 5), \n",
    "                       #KNNBasic(k = 5), \n",
    "                       #KNNWithMeans(k = 5), \n",
    "                       #KNNWithZScore(k = 5), \n",
    "                       BaselineOnly(), \n",
    "                       CoClustering()]):\n",
    "    # Perform cross validation\n",
    "    results = cross_validate(algorithm, data, measures=['RMSE', 'MAE'], cv=2, \n",
    "                             verbose=False)\n",
    "    \n",
    "    # Get results & append algorithm name\n",
    "    tmp = pd.DataFrame.from_dict(results).mean(axis=0)\n",
    "    tmp = tmp.append(pd.Series([str(algorithm).split(' ')[0].split('.')[-1]], \n",
    "                               index=['Algorithm']))\n",
    "    benchmark.append(tmp)\n",
    "    \n",
    "pd.DataFrame(benchmark).set_index('Algorithm').sort_values('test_rmse')  "
   ]
  },
  {
   "cell_type": "markdown",
   "metadata": {},
   "source": [
    "Based on these results, the SVD model, SVD++ and BaselineOnly provided the best results in test time, RMSE and MAE scores. However SVD have been fairly most implemented in text recommendation systems. As described by Nikolenko et al. in \"SVD-LDA: topic modelling for Full-text recommender system\" which showed significant improvement in the text recommendation system after doing SVD and LSA. \n",
    "\n",
    "Because of this an other research in the Area I decided to proceed with SVD model. "
   ]
  },
  {
   "cell_type": "code",
   "execution_count": 16,
   "metadata": {
    "ExecuteTime": {
     "end_time": "2020-11-02T11:45:41.238676Z",
     "start_time": "2020-11-02T11:45:41.236155Z"
    }
   },
   "outputs": [],
   "source": [
    "from surprise import SVD,NormalPredictor\n",
    "from surprise.model_selection import GridSearchCV"
   ]
  },
  {
   "cell_type": "code",
   "execution_count": 17,
   "metadata": {
    "ExecuteTime": {
     "end_time": "2020-11-02T11:53:52.216079Z",
     "start_time": "2020-11-02T11:45:41.240035Z"
    }
   },
   "outputs": [],
   "source": [
    "param_grid = {'n_factors':[50,100,150],'n_epochs':[10,20,30],  'lr_all':[0.001,0.005,0.01],'reg_all':[0.01,0.02,0.05]}\n",
    "gs = GridSearchCV(SVD, param_grid, measures=['rmse'], cv=2)\n",
    "gs.fit(data)\n",
    "params = gs.best_params['rmse']\n",
    "svdtuned = SVD(n_factors=params['n_factors'], n_epochs=params['n_epochs'],lr_all=params['lr_all'], reg_all=params['reg_all'])\n",
    "               "
   ]
  },
  {
   "cell_type": "code",
   "execution_count": 18,
   "metadata": {
    "ExecuteTime": {
     "end_time": "2020-11-02T11:53:52.221563Z",
     "start_time": "2020-11-02T11:53:52.217967Z"
    }
   },
   "outputs": [
    {
     "data": {
      "text/plain": [
       "0.3159155418370166"
      ]
     },
     "execution_count": 18,
     "metadata": {},
     "output_type": "execute_result"
    }
   ],
   "source": [
    "gs.best_score['rmse']"
   ]
  },
  {
   "cell_type": "code",
   "execution_count": 19,
   "metadata": {
    "ExecuteTime": {
     "end_time": "2020-11-02T11:53:52.227190Z",
     "start_time": "2020-11-02T11:53:52.223027Z"
    }
   },
   "outputs": [
    {
     "data": {
      "text/plain": [
       "{'n_factors': 50, 'n_epochs': 10, 'lr_all': 0.005, 'reg_all': 0.05}"
      ]
     },
     "execution_count": 19,
     "metadata": {},
     "output_type": "execute_result"
    }
   ],
   "source": [
    "params"
   ]
  },
  {
   "cell_type": "markdown",
   "metadata": {},
   "source": [
    "The best model using gridsearch and SVD have an RMSE of 0.31. Now we can use this to create a funciton to predict the closest items only based on sentiments extracted from the reviews. "
   ]
  },
  {
   "cell_type": "markdown",
   "metadata": {
    "ExecuteTime": {
     "end_time": "2020-11-02T11:17:31.829040Z",
     "start_time": "2020-11-02T11:17:31.825545Z"
    }
   },
   "source": [
    "## Generating predictions"
   ]
  },
  {
   "cell_type": "markdown",
   "metadata": {},
   "source": [
    "We will generate the top 10 recommendations of where to stay for a specific user only based on the sentiment extracted from the customer reviews. For this we will use the SVD model with the hyperoptimized parameters from the grid search result. "
   ]
  },
  {
   "cell_type": "code",
   "execution_count": 20,
   "metadata": {
    "ExecuteTime": {
     "end_time": "2020-11-02T11:53:52.234654Z",
     "start_time": "2020-11-02T11:53:52.228880Z"
    }
   },
   "outputs": [],
   "source": [
    "def svd_recommend(df, user):\n",
    "    \"\"\"finds and returns the top 10 similar items with SVD latent factor model\"\"\"\n",
    "    \n",
    "    reader = Reader(rating_scale = (-1,1))\n",
    "    dataset = Dataset.load_from_df(df, reader).build_full_trainset()\n",
    "    \n",
    "    \n",
    "    algo = SVD(n_factors= 50, n_epochs= 10, lr_all= 0.005, reg_all= 0.05)\n",
    "    algo.fit(dataset)\n",
    "    pred = []\n",
    "    \n",
    "    for i in set(df[\"listing_id\"]) - set(df.loc[df['reviewer_id'] == user]['listing_id']):\n",
    "        \n",
    "        pred.append(algo.predict(uid = user, iid = i))\n",
    "        \n",
    "        \n",
    "    return [i[1] for i in sorted(pred, key = lambda x:-x[3])[:10]]\n"
   ]
  },
  {
   "cell_type": "code",
   "execution_count": 21,
   "metadata": {
    "ExecuteTime": {
     "end_time": "2020-11-02T11:53:54.164636Z",
     "start_time": "2020-11-02T11:53:52.236444Z"
    }
   },
   "outputs": [],
   "source": [
    "closest_listings = svd_recommend(df_short, 8557223)"
   ]
  },
  {
   "cell_type": "markdown",
   "metadata": {},
   "source": [
    "Lets take a look to the 10 listings with closest sentiment values:"
   ]
  },
  {
   "cell_type": "code",
   "execution_count": 22,
   "metadata": {
    "ExecuteTime": {
     "end_time": "2020-11-02T11:53:54.175058Z",
     "start_time": "2020-11-02T11:53:54.166295Z"
    }
   },
   "outputs": [
    {
     "data": {
      "text/plain": [
       "listing_id\n",
       "764599      0.882954\n",
       "7697928     0.951545\n",
       "7791384     0.920581\n",
       "16010059    0.949700\n",
       "16460492    0.843243\n",
       "18000521    0.894067\n",
       "21370642    0.882617\n",
       "31081282    0.962500\n",
       "34214140    0.846900\n",
       "40935010    0.836025\n",
       "Name: sentiment, dtype: float64"
      ]
     },
     "execution_count": 22,
     "metadata": {},
     "output_type": "execute_result"
    }
   ],
   "source": [
    "df_short[df_short['listing_id'].isin(closest_listings)].groupby('listing_id').mean()['sentiment']"
   ]
  },
  {
   "cell_type": "code",
   "execution_count": 23,
   "metadata": {
    "ExecuteTime": {
     "end_time": "2020-11-02T11:53:54.192566Z",
     "start_time": "2020-11-02T11:53:54.179652Z"
    }
   },
   "outputs": [
    {
     "data": {
      "text/html": [
       "<div>\n",
       "<style scoped>\n",
       "    .dataframe tbody tr th:only-of-type {\n",
       "        vertical-align: middle;\n",
       "    }\n",
       "\n",
       "    .dataframe tbody tr th {\n",
       "        vertical-align: top;\n",
       "    }\n",
       "\n",
       "    .dataframe thead th {\n",
       "        text-align: right;\n",
       "    }\n",
       "</style>\n",
       "<table border=\"1\" class=\"dataframe\">\n",
       "  <thead>\n",
       "    <tr style=\"text-align: right;\">\n",
       "      <th></th>\n",
       "      <th>comments</th>\n",
       "    </tr>\n",
       "  </thead>\n",
       "  <tbody>\n",
       "    <tr>\n",
       "      <th>1893</th>\n",
       "      <td>Christeena is really nice to be with, and her ...</td>\n",
       "    </tr>\n",
       "    <tr>\n",
       "      <th>1894</th>\n",
       "      <td>I booked Chreestina's place for a friend and h...</td>\n",
       "    </tr>\n",
       "    <tr>\n",
       "      <th>1895</th>\n",
       "      <td>I had a lovely stay with Christeena and her ad...</td>\n",
       "    </tr>\n",
       "    <tr>\n",
       "      <th>1896</th>\n",
       "      <td>Its been wonderful staying at Christeena's pla...</td>\n",
       "    </tr>\n",
       "    <tr>\n",
       "      <th>1897</th>\n",
       "      <td>I had a great stay with Christeena. This was t...</td>\n",
       "    </tr>\n",
       "    <tr>\n",
       "      <th>1898</th>\n",
       "      <td>Very lucky to live Christeena home, make my tr...</td>\n",
       "    </tr>\n",
       "    <tr>\n",
       "      <th>1899</th>\n",
       "      <td>크리스티나랑 토마스 모두 친절했어요. 토마스는 재치가 있어서 더 좋았구, 그곳에서 ...</td>\n",
       "    </tr>\n",
       "    <tr>\n",
       "      <th>1900</th>\n",
       "      <td>Christeena is the best host I have ever met , ...</td>\n",
       "    </tr>\n",
       "    <tr>\n",
       "      <th>1902</th>\n",
       "      <td>So nice</td>\n",
       "    </tr>\n",
       "    <tr>\n",
       "      <th>1903</th>\n",
       "      <td>The room is clean like in the picture. Have a ...</td>\n",
       "    </tr>\n",
       "  </tbody>\n",
       "</table>\n",
       "</div>"
      ],
      "text/plain": [
       "                                               comments\n",
       "1893  Christeena is really nice to be with, and her ...\n",
       "1894  I booked Chreestina's place for a friend and h...\n",
       "1895  I had a lovely stay with Christeena and her ad...\n",
       "1896  Its been wonderful staying at Christeena's pla...\n",
       "1897  I had a great stay with Christeena. This was t...\n",
       "1898  Very lucky to live Christeena home, make my tr...\n",
       "1899  크리스티나랑 토마스 모두 친절했어요. 토마스는 재치가 있어서 더 좋았구, 그곳에서 ...\n",
       "1900  Christeena is the best host I have ever met , ...\n",
       "1902                                           So nice \n",
       "1903  The room is clean like in the picture. Have a ..."
      ]
     },
     "execution_count": 23,
     "metadata": {},
     "output_type": "execute_result"
    }
   ],
   "source": [
    "df_reviews[df_reviews['listing_id'].isin(closest_listings)][['comments']][:10]"
   ]
  },
  {
   "cell_type": "markdown",
   "metadata": {},
   "source": [
    "After doing a quick inspection we can notice that the majority of the recommended listings have similar sentiments of the reviews from the users. This is fairly the behaviour we were expecting from our recommendation system. "
   ]
  },
  {
   "cell_type": "markdown",
   "metadata": {},
   "source": [
    "## Conclusions and Recommendations"
   ]
  },
  {
   "cell_type": "markdown",
   "metadata": {},
   "source": [
    "The results of using the sentiment of reviews in a recommendation system is fairly favorable, however we notice that there are plenty of limitations. The first limitation of course is the type of data. For datasets like Airbnb where customer review a small number of stays, it would be challenging to optimize a recommendation model. Another limitation is the language of the reviews as many of the available pre-trained models are usually in english. This might require an in house NLP model to extract the sentiments in different languages which will be limited by the number of reviews. \n",
    "\n",
    "Another important consideration is the preprocessing and cleaning of data. Even if this dataset was fairly clean, some times we will need to evaluate what content to use and what to avoid. This might come from a deep analysis and understanding of the problem. \n",
    "\n",
    "In general we think the results are positive and sentiment analysis can be an aditional tool to help generating valuable content for users. Other language modeling method can be recommended to explore as topic modeling. We also recommend to replicate this type of study in other type of datasets with more reviews per users. \n",
    "\n",
    "Even if we think sentiment analysis is a worth endeavour for recommendation systems, we also think a recommendation system only based in sentiments is not enough. Sentiment can be use with other type of content to generate a content based recommendation system. \n",
    "\n",
    "Vader provided fairly good and accurate results, however many other NLP models and techniques for sentiment analysis can be used to improve the model. Other considerations can be taken for example deleting stopwords and other text preprocessing.\n"
   ]
  },
  {
   "cell_type": "markdown",
   "metadata": {},
   "source": [
    "## Bibliography"
   ]
  },
  {
   "cell_type": "markdown",
   "metadata": {},
   "source": [
    "Nikolenko, S. SVD-LDA: Topic Modeling for Full-Text Recommender Systems. Springer Link. https://link.springer.com/chapter/10.1007/978-3-319-27101-9_5\n",
    "\n",
    "Chandarana, N. SVD: Where Model Tuning Goes Wrong. https://towardsdatascience.com/svd-where-model-tuning-goes-wrong-61c269402919\n",
    "\n",
    "Li, s. Building and Testing Recommender Systems With Surprise, Step-By-Step. https://towardsdatascience.com/building-and-testing-recommender-systems-with-surprise-step-by-step-d4ba702ef80b\n"
   ]
  }
 ],
 "metadata": {
  "kernelspec": {
   "display_name": "Python 3",
   "language": "python",
   "name": "python3"
  },
  "language_info": {
   "codemirror_mode": {
    "name": "ipython",
    "version": 3
   },
   "file_extension": ".py",
   "mimetype": "text/x-python",
   "name": "python",
   "nbconvert_exporter": "python",
   "pygments_lexer": "ipython3",
   "version": "3.7.4"
  }
 },
 "nbformat": 4,
 "nbformat_minor": 4
}
